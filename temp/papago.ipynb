{
 "cells": [
  {
   "cell_type": "code",
   "execution_count": 1,
   "metadata": {},
   "outputs": [],
   "source": [
    "import pandas as pd\n",
    "from selenium import webdriver\n",
    "from selenium.webdriver.common.keys import Keys\n",
    "from selenium.webdriver.common.by import By\n",
    "from selenium.webdriver.support.ui import WebDriverWait\n",
    "from selenium.webdriver.support import expected_conditions as EC\n",
    "from tqdm import tqdm\n",
    "import time"
   ]
  },
  {
   "cell_type": "code",
   "execution_count": 3,
   "metadata": {},
   "outputs": [],
   "source": [
    "file_path = '../data/train.csv'\n",
    "df = pd.read_csv(file_path)\n",
    "columns = '질문_1'"
   ]
  },
  {
   "cell_type": "code",
   "execution_count": 4,
   "metadata": {},
   "outputs": [],
   "source": [
    "target = df[columns]"
   ]
  },
  {
   "cell_type": "code",
   "execution_count": 5,
   "metadata": {},
   "outputs": [],
   "source": [
    "class any_text_except_specific_to_be_present_in_element_within_another_element:\n",
    "    def __init__(self, container_locator, child_tag, excluded_text):\n",
    "        self.container_locator = container_locator\n",
    "        self.child_tag = child_tag\n",
    "        self.excluded_text = excluded_text\n",
    "\n",
    "    def __call__(self, driver):\n",
    "        container_element = driver.find_element(*self.container_locator)\n",
    "        child_elements = container_element.find_elements(By.TAG_NAME, self.child_tag)\n",
    "        return any(child_element.text.strip() != \"\" and child_element.text.strip() != self.excluded_text for child_element in child_elements)"
   ]
  },
  {
   "cell_type": "code",
   "execution_count": 13,
   "metadata": {},
   "outputs": [
    {
     "name": "stderr",
     "output_type": "stream",
     "text": [
      "  0%|          | 1/644 [00:05<59:29,  5.55s/it]"
     ]
    },
    {
     "name": "stdout",
     "output_type": "stream",
     "text": [
      "면진장치가 뭐야? <-> 면진장치란 무엇입니까?\n"
     ]
    },
    {
     "name": "stderr",
     "output_type": "stream",
     "text": [
      "  0%|          | 2/644 [00:10<57:28,  5.37s/it]"
     ]
    },
    {
     "name": "stdout",
     "output_type": "stream",
     "text": [
      "내진설계의 종류 좀 알려줘 <-> 내진 설계의 종류 좀 가르쳐 주시오\n"
     ]
    },
    {
     "name": "stderr",
     "output_type": "stream",
     "text": [
      "  0%|          | 3/644 [00:16<56:48,  5.32s/it]"
     ]
    },
    {
     "name": "stdout",
     "output_type": "stream",
     "text": [
      "철골구조의 장점이 뭐야? <-> 철골 구조의 장점은 무엇?\n"
     ]
    },
    {
     "name": "stderr",
     "output_type": "stream",
     "text": [
      "  1%|          | 4/644 [00:21<56:26,  5.29s/it]"
     ]
    },
    {
     "name": "stdout",
     "output_type": "stream",
     "text": [
      "철골철근 콘크리트 구조가 뭐야? <-> 철골 철근 콘크리트 구조가 뭐지?\n"
     ]
    },
    {
     "name": "stderr",
     "output_type": "stream",
     "text": [
      "  1%|          | 5/644 [00:26<56:09,  5.27s/it]"
     ]
    },
    {
     "name": "stdout",
     "output_type": "stream",
     "text": [
      "철골구조는 어떤 방식이 있어? <-> 철골 구조는 어떤 방식이 있는 거지?\n"
     ]
    },
    {
     "name": "stderr",
     "output_type": "stream",
     "text": [
      "  1%|          | 6/644 [00:31<55:54,  5.26s/it]"
     ]
    },
    {
     "name": "stdout",
     "output_type": "stream",
     "text": [
      "커튼월이 뭐야? <-> 커튼월이 뭐지?\n"
     ]
    },
    {
     "name": "stderr",
     "output_type": "stream",
     "text": [
      "  1%|          | 7/644 [00:37<55:46,  5.25s/it]"
     ]
    },
    {
     "name": "stdout",
     "output_type": "stream",
     "text": [
      "내진구조가 뭐야? <-> 내진 구조가 뭐지?\n"
     ]
    },
    {
     "name": "stderr",
     "output_type": "stream",
     "text": [
      "  1%|          | 8/644 [00:42<55:37,  5.25s/it]"
     ]
    },
    {
     "name": "stdout",
     "output_type": "stream",
     "text": [
      "중목구조 방식이 뭐야? <-> 중목 구조 방식이 뭐지?\n"
     ]
    },
    {
     "name": "stderr",
     "output_type": "stream",
     "text": [
      "  1%|          | 8/644 [00:45<1:00:05,  5.67s/it]\n"
     ]
    },
    {
     "ename": "KeyboardInterrupt",
     "evalue": "",
     "output_type": "error",
     "traceback": [
      "\u001b[1;31m---------------------------------------------------------------------------\u001b[0m",
      "\u001b[1;31mKeyboardInterrupt\u001b[0m                         Traceback (most recent call last)",
      "\u001b[1;32mc:\\Users\\PC\\Desktop\\hansol\\Hansol-QA\\temp\\papago.ipynb Cell 5\u001b[0m in \u001b[0;36m<cell line: 4>\u001b[1;34m()\u001b[0m\n\u001b[0;32m      <a href='vscode-notebook-cell:/c%3A/Users/PC/Desktop/hansol/Hansol-QA/temp/papago.ipynb#W5sZmlsZQ%3D%3D?line=5'>6</a>\u001b[0m input_field \u001b[39m=\u001b[39m driver\u001b[39m.\u001b[39mfind_element(By\u001b[39m.\u001b[39mID, \u001b[39m'\u001b[39m\u001b[39mtxtSource\u001b[39m\u001b[39m'\u001b[39m)\n\u001b[0;32m      <a href='vscode-notebook-cell:/c%3A/Users/PC/Desktop/hansol/Hansol-QA/temp/papago.ipynb#W5sZmlsZQ%3D%3D?line=6'>7</a>\u001b[0m input_field\u001b[39m.\u001b[39msend_keys(row)\n\u001b[1;32m----> <a href='vscode-notebook-cell:/c%3A/Users/PC/Desktop/hansol/Hansol-QA/temp/papago.ipynb#W5sZmlsZQ%3D%3D?line=7'>8</a>\u001b[0m time\u001b[39m.\u001b[39;49msleep(\u001b[39m3\u001b[39;49m)\n\u001b[0;32m     <a href='vscode-notebook-cell:/c%3A/Users/PC/Desktop/hansol/Hansol-QA/temp/papago.ipynb#W5sZmlsZQ%3D%3D?line=9'>10</a>\u001b[0m wait \u001b[39m=\u001b[39m WebDriverWait(driver, \u001b[39m10\u001b[39m)\n\u001b[0;32m     <a href='vscode-notebook-cell:/c%3A/Users/PC/Desktop/hansol/Hansol-QA/temp/papago.ipynb#W5sZmlsZQ%3D%3D?line=10'>11</a>\u001b[0m target_locator \u001b[39m=\u001b[39m (By\u001b[39m.\u001b[39mID, \u001b[39m\"\u001b[39m\u001b[39mtargetEditArea\u001b[39m\u001b[39m\"\u001b[39m)\n",
      "\u001b[1;31mKeyboardInterrupt\u001b[0m: "
     ]
    }
   ],
   "source": [
    "new_data = []\n",
    "driver = webdriver.Chrome()\n",
    "driver.get('https://papago.naver.com/?sk=ko&tk=ja&hn=0')\n",
    "for index, row in enumerate(tqdm(target)):\n",
    "    # 사이트에 접속\n",
    "    input_field = driver.find_element(By.ID, 'txtSource')\n",
    "    input_field.send_keys(row)\n",
    "    time.sleep(3)\n",
    "\n",
    "    wait = WebDriverWait(driver, 10)\n",
    "    target_locator = (By.ID, \"targetEditArea\")\n",
    "    excluded_text = \"...\"  # 제외할 텍스트\n",
    "    wait.until(any_text_except_specific_to_be_present_in_element_within_another_element(target_locator, \"span\", excluded_text))\n",
    "\n",
    "    switch_button = driver.find_element(By.CLASS_NAME, \"btn_switch___x4Tcl\")\n",
    "    switch_button.click()\n",
    "    time.sleep(1)\n",
    "\n",
    "    wait.until(any_text_except_specific_to_be_present_in_element_within_another_element(target_locator, \"span\", excluded_text))\n",
    "\n",
    "    final_text = driver.find_element(By.ID, \"targetEditArea\").text\n",
    "    new_data.append(final_text)\n",
    "    time.sleep(1)\n",
    "    input_field.clear()\n",
    "    print(row, \"<->\",final_text)\n",
    "\n",
    "# 데이터프레임에 새로운 열로 저장\n",
    "df[f\"{columns}'\"] = new_data"
   ]
  },
  {
   "cell_type": "code",
   "execution_count": 9,
   "metadata": {},
   "outputs": [],
   "source": [
    "df = df[['id','질문_1',\"질문_1'\",'질문_2','category','답변_1','답변_2','답변_3','답변_4','답변_5']]"
   ]
  },
  {
   "cell_type": "code",
   "execution_count": 11,
   "metadata": {},
   "outputs": [],
   "source": [
    "df.to_csv(\"../data/train_aug.csv\")"
   ]
  }
 ],
 "metadata": {
  "kernelspec": {
   "display_name": "base",
   "language": "python",
   "name": "python3"
  },
  "language_info": {
   "codemirror_mode": {
    "name": "ipython",
    "version": 3
   },
   "file_extension": ".py",
   "mimetype": "text/x-python",
   "name": "python",
   "nbconvert_exporter": "python",
   "pygments_lexer": "ipython3",
   "version": "3.8.13"
  },
  "orig_nbformat": 4
 },
 "nbformat": 4,
 "nbformat_minor": 2
}
