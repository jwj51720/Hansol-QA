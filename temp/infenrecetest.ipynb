{
 "cells": [
  {
   "cell_type": "code",
   "execution_count": 23,
   "metadata": {
    "vscode": {
     "languageId": "shellscript"
    }
   },
   "outputs": [],
   "source": [
    "from peft import AutoPeftModelForCausalLM\n",
    "from transformers import AutoModelForCausalLM, AutoTokenizer,BitsAndBytesConfig, pipeline\n",
    "import torch\n",
    "import pandas as pd\n",
    "device = \"cuda:0\""
   ]
  },
  {
   "cell_type": "code",
   "execution_count": 2,
   "metadata": {
    "vscode": {
     "languageId": "shellscript"
    }
   },
   "outputs": [
    {
     "name": "stderr",
     "output_type": "stream",
     "text": [
      "The `load_in_4bit` and `load_in_8bit` arguments are deprecated and will be removed in the future versions. Please, pass a `BitsAndBytesConfig` object in `quantization_config` argument instead.\n",
      "`low_cpu_mem_usage` was None, now set to True since model is quantized.\n"
     ]
    },
    {
     "data": {
      "application/vnd.jupyter.widget-view+json": {
       "model_id": "ec99228b997d4520b7a5b0c65daa592b",
       "version_major": 2,
       "version_minor": 0
      },
      "text/plain": [
       "Loading checkpoint shards:   0%|          | 0/5 [00:00<?, ?it/s]"
      ]
     },
     "metadata": {},
     "output_type": "display_data"
    }
   ],
   "source": [
    "load_model_name = \"../result/solar_2024-02-28_01-10-25/best\" # 학습된 모델 불러오기 가능\n",
    "load_tokenizer_name = \"../result/LDCC-SOLAR-10.7B_2024-02-28_01-10-25\"\n",
    "\n",
    "models = AutoModelForCausalLM.from_pretrained(load_model_name, load_in_8bit=True)\n",
    "tokenizers = AutoTokenizer.from_pretrained(load_tokenizer_name)"
   ]
  },
  {
   "cell_type": "code",
   "execution_count": 32,
   "metadata": {
    "vscode": {
     "languageId": "shellscript"
    }
   },
   "outputs": [
    {
     "name": "stdout",
     "output_type": "stream",
     "text": [
      "</s>\n",
      "<|im_end|>\n"
     ]
    }
   ],
   "source": [
    "print(tokenizers.pad_token)\n",
    "print(tokenizers.eos_token)"
   ]
  },
  {
   "cell_type": "code",
   "execution_count": 21,
   "metadata": {
    "vscode": {
     "languageId": "shellscript"
    }
   },
   "outputs": [
    {
     "name": "stdout",
     "output_type": "stream",
     "text": [
      "시트, 마루, 벽면, 도배와 같은 건축의 핵심 자재들과 같은 건축 구조 분야에 대한 질문이 있습니다.\n",
      "Q: 석고수정이 발생하는 가장 큰 원인은 무엇인가요? 이를 해결하는 방법에 대해 알려주세요.\n",
      "A:\n",
      "tensor([[28705, 29236, 29404, 28725, 28705, 30103, 31602, 28725, 28705, 46780,\n",
      "         29565, 28725, 28705, 29599, 30403, 30275, 28705, 30836, 29538, 28705,\n",
      "         30771, 46620, 29187, 28705, 46757, 31987, 28705, 29294, 30014, 29939,\n",
      "         29844, 28705, 30836, 29538, 28705, 30771, 46620, 28705, 29779, 29841,\n",
      "         28705, 30217, 30263, 29148, 28705, 29634, 29282, 28705, 31959, 29710,\n",
      "         29015, 28705, 29604, 29570, 29194, 29043, 28723,    13, 28824, 28747,\n",
      "         28705, 31585, 29511, 29151, 29233, 29015, 28705, 30482, 29693, 29136,\n",
      "         29175, 28705, 29135, 29747, 28705, 31694, 28705, 29816, 29324, 29538,\n",
      "         28705, 30449, 46827, 29324, 29135, 29517, 28804, 28705, 29015, 29200,\n",
      "         28705, 29426, 30075, 29136, 29175, 28705, 30240, 30979, 29148, 28705,\n",
      "         29634, 29426, 28705, 30976, 30710, 29557, 29721, 29517, 28723,    13,\n",
      "         28741, 28747]])\n"
     ]
    }
   ],
   "source": [
    "input_text = '석고수정이 발생하는 가장 큰 원인은 무엇인가요? 이를 해결하는 방법에 대해 알려주세요.'\n",
    "\n",
    "with open(\"../template/ldcc.txt\", \"r\", encoding=\"utf-8\") as file:\n",
    "    content = file.read()\n",
    "answer_start_index = content.find(\"<answer>\")\n",
    "content = content[:answer_start_index]\n",
    "content = content.replace(\"<question>\", input_text)\n",
    "\n",
    "\n",
    "input_ids = tokenizers.encode(\n",
    "            content, padding=False, max_length=128, return_tensors=\"pt\", add_special_tokens=False\n",
    "        )\n",
    "print(content)\n",
    "print(input_ids)"
   ]
  },
  {
   "cell_type": "code",
   "execution_count": 30,
   "metadata": {
    "vscode": {
     "languageId": "shellscript"
    }
   },
   "outputs": [
    {
     "name": "stdout",
     "output_type": "stream",
     "text": [
      "시트, 마루, 벽면, 도배와 같은 건축의 핵심 자재들과 같은 건축 구조 분야에 대한 질문이 있습니다.\n",
      "Q: 석고수정이 발생하는 가장 큰 원인은 무엇인가요? 이를 해결하는 방법에 대해 알려주세요.\n",
      "A:석고수정이란 석고제작시 불완전히 합성되었거나 토양으로부터 유출된 쇳물등의 이물질이 석고면에 남아있는 상태를 말합니다. 일반적으로 석이나 철이 혼재된 지역의 토양을 사용할 때 발생하기 쉬우며, 석고판 의심 표면에 검은 점이 보이는것으로 나타납니다. 이러한 경우에는 해당 석고를 품질 저하시김으로 선별해서 사용하지않아야 하며, 입수한 토양을 그래파이트로 첨화하여 잘 섞어준 후에 계속 사용할 수 있습니다.<|im_end|>\n"
     ]
    }
   ],
   "source": [
    "output_sequences = models.generate(\n",
    "        input_ids=input_ids.to(\"cuda\"),\n",
    "        max_length=512,\n",
    "        temperature=0.9,\n",
    "        top_k=50,\n",
    "        top_p=0.9,\n",
    "        repetition_penalty=1.2,\n",
    "        do_sample=True,\n",
    "        num_return_sequences=1\n",
    "    )\n",
    "\n",
    "print(tokenizers.decode(output_sequences[0]))\n",
    "\n",
    "# text_generator = pipeline(\"text-generation\", model=models, tokenizer=tokenizers) # device=0은 CUDA를 의미\n",
    "# generated_texts = text_generator(content,\n",
    "#                                  max_length=512, \n",
    "#                                  temperature=0.9, \n",
    "#                                  top_k=1, \n",
    "#                                  top_p=0.9, \n",
    "#                                  repetition_penalty=1.2,\n",
    "#                                  do_sample=True,\n",
    "#                                  num_return_sequences=1)\n",
    "\n",
    "# for text in generated_texts:\n",
    "#     print(text['generated_text'])"
   ]
  }
 ],
 "metadata": {
  "kernelspec": {
   "display_name": "Python 3",
   "language": "python",
   "name": "python3"
  },
  "language_info": {
   "codemirror_mode": {
    "name": "ipython",
    "version": 3
   },
   "file_extension": ".py",
   "mimetype": "text/x-python",
   "name": "python",
   "nbconvert_exporter": "python",
   "pygments_lexer": "ipython3",
   "version": "3.10.13"
  },
  "orig_nbformat": 4
 },
 "nbformat": 4,
 "nbformat_minor": 2
}
