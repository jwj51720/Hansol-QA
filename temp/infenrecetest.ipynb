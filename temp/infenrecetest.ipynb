{
 "cells": [
  {
   "cell_type": "code",
   "execution_count": 23,
   "metadata": {
    "vscode": {
     "languageId": "shellscript"
    }
   },
   "outputs": [],
   "source": [
    "from peft import AutoPeftModelForCausalLM\n",
    "from transformers import AutoModelForCausalLM, AutoTokenizer,BitsAndBytesConfig, pipeline\n",
    "import torch\n",
    "import pandas as pd\n",
    "device = \"cuda:0\""
   ]
  },
  {
   "cell_type": "code",
   "execution_count": 2,
   "metadata": {
    "vscode": {
     "languageId": "shellscript"
    }
   },
   "outputs": [
    {
     "name": "stderr",
     "output_type": "stream",
     "text": [
      "The `load_in_4bit` and `load_in_8bit` arguments are deprecated and will be removed in the future versions. Please, pass a `BitsAndBytesConfig` object in `quantization_config` argument instead.\n",
      "`low_cpu_mem_usage` was None, now set to True since model is quantized.\n"
     ]
    },
    {
     "data": {
      "application/vnd.jupyter.widget-view+json": {
       "model_id": "ec99228b997d4520b7a5b0c65daa592b",
       "version_major": 2,
       "version_minor": 0
      },
      "text/plain": [
       "Loading checkpoint shards:   0%|          | 0/5 [00:00<?, ?it/s]"
      ]
     },
     "metadata": {},
     "output_type": "display_data"
    }
   ],
   "source": [
    "load_model_name = \"../result/solar_2024-02-28_01-10-25/best\" # 학습된 모델 불러오기 가능\n",
    "load_tokenizer_name = \"../result/LDCC-SOLAR-10.7B_2024-02-28_01-10-25\"\n",
    "\n",
    "models = AutoModelForCausalLM.from_pretrained(load_model_name, load_in_8bit=True)\n",
    "tokenizers = AutoTokenizer.from_pretrained(load_tokenizer_name)"
   ]
  },
  {
   "cell_type": "code",
   "execution_count": 21,
   "metadata": {
    "vscode": {
     "languageId": "shellscript"
    }
   },
   "outputs": [
    {
     "name": "stdout",
     "output_type": "stream",
     "text": [
      "시트, 마루, 벽면, 도배와 같은 건축의 핵심 자재들과 같은 건축 구조 분야에 대한 질문이 있습니다.\n",
      "Q: 석고수정이 발생하는 가장 큰 원인은 무엇인가요? 이를 해결하는 방법에 대해 알려주세요.\n",
      "A:\n",
      "tensor([[28705, 29236, 29404, 28725, 28705, 30103, 31602, 28725, 28705, 46780,\n",
      "         29565, 28725, 28705, 29599, 30403, 30275, 28705, 30836, 29538, 28705,\n",
      "         30771, 46620, 29187, 28705, 46757, 31987, 28705, 29294, 30014, 29939,\n",
      "         29844, 28705, 30836, 29538, 28705, 30771, 46620, 28705, 29779, 29841,\n",
      "         28705, 30217, 30263, 29148, 28705, 29634, 29282, 28705, 31959, 29710,\n",
      "         29015, 28705, 29604, 29570, 29194, 29043, 28723,    13, 28824, 28747,\n",
      "         28705, 31585, 29511, 29151, 29233, 29015, 28705, 30482, 29693, 29136,\n",
      "         29175, 28705, 29135, 29747, 28705, 31694, 28705, 29816, 29324, 29538,\n",
      "         28705, 30449, 46827, 29324, 29135, 29517, 28804, 28705, 29015, 29200,\n",
      "         28705, 29426, 30075, 29136, 29175, 28705, 30240, 30979, 29148, 28705,\n",
      "         29634, 29426, 28705, 30976, 30710, 29557, 29721, 29517, 28723,    13,\n",
      "         28741, 28747]])\n"
     ]
    }
   ],
   "source": [
    "input_text = '석고수정이 발생하는 가장 큰 원인은 무엇인가요? 이를 해결하는 방법에 대해 알려주세요.'\n",
    "\n",
    "with open(\"../template/ldcc.txt\", \"r\", encoding=\"utf-8\") as file:\n",
    "    content = file.read()\n",
    "answer_start_index = content.find(\"<answer>\")\n",
    "content = content[:answer_start_index]\n",
    "content = content.replace(\"<question>\", input_text)\n",
    "\n",
    "\n",
    "input_ids = tokenizers.encode(\n",
    "            content, padding=False, max_length=128, return_tensors=\"pt\", add_special_tokens=False\n",
    "        )\n",
    "print(content)\n",
    "print(input_ids)"
   ]
  },
  {
   "cell_type": "code",
   "execution_count": 30,
   "metadata": {
    "vscode": {
     "languageId": "shellscript"
    }
   },
   "outputs": [
    {
     "name": "stdout",
     "output_type": "stream",
     "text": [
      "시트, 마루, 벽면, 도배와 같은 건축의 핵심 자재들과 같은 건축 구조 분야에 대한 질문이 있습니다.\n",
      "Q: 석고수정이 발생하는 가장 큰 원인은 무엇인가요? 이를 해결하는 방법에 대해 알려주세요.\n",
      "A:석고수정이란 석고제작시 불완전히 합성되었거나 토양으로부터 유출된 쇳물등의 이물질이 석고면에 남아있는 상태를 말합니다. 일반적으로 석이나 철이 혼재된 지역의 토양을 사용할 때 발생하기 쉬우며, 석고판 의심 표면에 검은 점이 보이는것으로 나타납니다. 이러한 경우에는 해당 석고를 품질 저하시김으로 선별해서 사용하지않아야 하며, 입수한 토양을 그래파이트로 첨화하여 잘 섞어준 후에 계속 사용할 수 있습니다.<|im_end|>\n"
     ]
    }
   ],
   "source": [
    "output_sequences = models.generate(\n",
    "        input_ids=input_ids.to(\"cuda\"),\n",
    "        max_length=512,\n",
    "        temperature=0.9,\n",
    "        top_k=50,\n",
    "        top_p=0.9,\n",
    "        repetition_penalty=1.2,\n",
    "        do_sample=True,\n",
    "        num_return_sequences=1\n",
    "    )\n",
    "\n",
    "print(tokenizers.decode(output_sequences[0]))\n",
    "\n",
    "# text_generator = pipeline(\"text-generation\", model=models, tokenizer=tokenizers) # device=0은 CUDA를 의미\n",
    "# generated_texts = text_generator(content,\n",
    "#                                  max_length=512, \n",
    "#                                  temperature=0.9, \n",
    "#                                  top_k=1, \n",
    "#                                  top_p=0.9, \n",
    "#                                  repetition_penalty=1.2,\n",
    "#                                  do_sample=True,\n",
    "#                                  num_return_sequences=1)\n",
    "\n",
    "# for text in generated_texts:\n",
    "#     print(text['generated_text'])"
   ]
  },
  {
   "cell_type": "code",
   "execution_count": 19,
   "metadata": {
    "vscode": {
     "languageId": "shellscript"
    }
   },
   "outputs": [],
   "source": [
    "test = pd.read_csv(\"../data/test_split.csv\")"
   ]
  },
  {
   "cell_type": "code",
   "execution_count": 20,
   "metadata": {
    "vscode": {
     "languageId": "shellscript"
    }
   },
   "outputs": [
    {
     "data": {
      "text/html": [
       "<div>\n",
       "<style scoped>\n",
       "    .dataframe tbody tr th:only-of-type {\n",
       "        vertical-align: middle;\n",
       "    }\n",
       "\n",
       "    .dataframe tbody tr th {\n",
       "        vertical-align: top;\n",
       "    }\n",
       "\n",
       "    .dataframe thead th {\n",
       "        text-align: right;\n",
       "    }\n",
       "</style>\n",
       "<table border=\"1\" class=\"dataframe\">\n",
       "  <thead>\n",
       "    <tr style=\"text-align: right;\">\n",
       "      <th></th>\n",
       "      <th>Unnamed: 0</th>\n",
       "      <th>id</th>\n",
       "      <th>질문</th>\n",
       "    </tr>\n",
       "  </thead>\n",
       "  <tbody>\n",
       "    <tr>\n",
       "      <th>0</th>\n",
       "      <td>0</td>\n",
       "      <td>TEST_000</td>\n",
       "      <td>방청 페인트의 종류에는 어떤 것들이 있는지 알고 계신가요?</td>\n",
       "    </tr>\n",
       "    <tr>\n",
       "      <th>1</th>\n",
       "      <td>1</td>\n",
       "      <td>TEST_000</td>\n",
       "      <td>원목사이딩을 사용하는 것에 어떤 단점이 있을까요?</td>\n",
       "    </tr>\n",
       "    <tr>\n",
       "      <th>2</th>\n",
       "      <td>2</td>\n",
       "      <td>TEST_001</td>\n",
       "      <td>도배지에 녹은 자국이 발생하는 주된 원인과 그 해결 방법은 무엇인가요?</td>\n",
       "    </tr>\n",
       "    <tr>\n",
       "      <th>3</th>\n",
       "      <td>3</td>\n",
       "      <td>TEST_002</td>\n",
       "      <td>큐블럭의 단점을 알려주세요.</td>\n",
       "    </tr>\n",
       "    <tr>\n",
       "      <th>4</th>\n",
       "      <td>4</td>\n",
       "      <td>TEST_002</td>\n",
       "      <td>압출법 단열판을 사용하는 것의 장점은 무엇인가요?</td>\n",
       "    </tr>\n",
       "    <tr>\n",
       "      <th>...</th>\n",
       "      <td>...</td>\n",
       "      <td>...</td>\n",
       "      <td>...</td>\n",
       "    </tr>\n",
       "    <tr>\n",
       "      <th>191</th>\n",
       "      <td>191</td>\n",
       "      <td>TEST_127</td>\n",
       "      <td>평지붕의 누수 문제를 방지하기 위해 수성 벽체용 탄성 방수 도료를 사용하는 것이 어...</td>\n",
       "    </tr>\n",
       "    <tr>\n",
       "      <th>192</th>\n",
       "      <td>192</td>\n",
       "      <td>TEST_128</td>\n",
       "      <td>석고수정이 발생하는 가장 큰 원인은 무엇인가요?</td>\n",
       "    </tr>\n",
       "    <tr>\n",
       "      <th>193</th>\n",
       "      <td>193</td>\n",
       "      <td>TEST_128</td>\n",
       "      <td>이를 해결하는 방법에 대해 알려주세요.\"</td>\n",
       "    </tr>\n",
       "    <tr>\n",
       "      <th>194</th>\n",
       "      <td>194</td>\n",
       "      <td>TEST_129</td>\n",
       "      <td>카페트의 기대 수명은 얼마나 될까요?</td>\n",
       "    </tr>\n",
       "    <tr>\n",
       "      <th>195</th>\n",
       "      <td>195</td>\n",
       "      <td>TEST_129</td>\n",
       "      <td>오리지널징크의 장점에는 무엇이 있나요?</td>\n",
       "    </tr>\n",
       "  </tbody>\n",
       "</table>\n",
       "<p>196 rows × 3 columns</p>\n",
       "</div>"
      ],
      "text/plain": [
       "     Unnamed: 0        id                                                 질문\n",
       "0             0  TEST_000                  방청 페인트의 종류에는 어떤 것들이 있는지 알고 계신가요? \n",
       "1             1  TEST_000                        원목사이딩을 사용하는 것에 어떤 단점이 있을까요?\n",
       "2             2  TEST_001            도배지에 녹은 자국이 발생하는 주된 원인과 그 해결 방법은 무엇인가요?\n",
       "3             3  TEST_002                                   큐블럭의 단점을 알려주세요. \n",
       "4             4  TEST_002                        압출법 단열판을 사용하는 것의 장점은 무엇인가요?\n",
       "..          ...       ...                                                ...\n",
       "191         191  TEST_127  평지붕의 누수 문제를 방지하기 위해 수성 벽체용 탄성 방수 도료를 사용하는 것이 어...\n",
       "192         192  TEST_128                        석고수정이 발생하는 가장 큰 원인은 무엇인가요? \n",
       "193         193  TEST_128                             이를 해결하는 방법에 대해 알려주세요.\"\n",
       "194         194  TEST_129                              카페트의 기대 수명은 얼마나 될까요? \n",
       "195         195  TEST_129                              오리지널징크의 장점에는 무엇이 있나요?\n",
       "\n",
       "[196 rows x 3 columns]"
      ]
     },
     "execution_count": 20,
     "metadata": {},
     "output_type": "execute_result"
    }
   ],
   "source": [
    "test"
   ]
  }
 ],
 "metadata": {
  "kernelspec": {
   "display_name": "Python 3",
   "language": "python",
   "name": "python3"
  },
  "language_info": {
   "codemirror_mode": {
    "name": "ipython",
    "version": 3
   },
   "file_extension": ".py",
   "mimetype": "text/x-python",
   "name": "python",
   "nbconvert_exporter": "python",
   "pygments_lexer": "ipython3",
   "version": "3.10.13"
  },
  "orig_nbformat": 4
 },
 "nbformat": 4,
 "nbformat_minor": 2
}
