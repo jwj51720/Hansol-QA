{
 "cells": [
  {
   "cell_type": "code",
   "execution_count": 28,
   "metadata": {},
   "outputs": [
    {
     "name": "stdout",
     "output_type": "stream",
     "text": [
      "b'fvU96Cug_fQFt8lWYLE2EGersZY85n2NNuRUeryQuYQ='\n"
     ]
    }
   ],
   "source": [
    "# from cryptography.fernet import Fernet # 대칭 키 암호화를 위한 클래스\n",
    "# from pprint import pprint\n",
    "\n",
    "# # 키 생성\n",
    "# key = Fernet.generate_key() # 대칭 키 생성\n",
    "# print(key)"
   ]
  },
  {
   "cell_type": "markdown",
   "metadata": {},
   "source": [
    "# 암호화"
   ]
  },
  {
   "cell_type": "markdown",
   "metadata": {},
   "source": [
    "- 2024 02 13 key:\n",
    "    - fvU96Cug_fQFt8lWYLE2EGersZY85n2NNuRUeryQuYQ="
   ]
  },
  {
   "cell_type": "code",
   "execution_count": 31,
   "metadata": {},
   "outputs": [],
   "source": [
    "config = './base_config.json' # 암호화 할 config 파일의 경로"
   ]
  },
  {
   "cell_type": "code",
   "execution_count": 32,
   "metadata": {},
   "outputs": [
    {
     "name": "stdout",
     "output_type": "stream",
     "text": [
      "b'fvU96Cug_fQFt8lWYLE2EGersZY85n2NNuRUeryQuYQ='\n"
     ]
    }
   ],
   "source": [
    "from cryptography.fernet import Fernet\n",
    "\n",
    "key = 'fvU96Cug_fQFt8lWYLE2EGersZY85n2NNuRUeryQuYQ=' # 고정\n",
    "key = key.encode()\n",
    "print(key)\n",
    "cipher_suite = Fernet(key)"
   ]
  },
  {
   "cell_type": "code",
   "execution_count": 33,
   "metadata": {},
   "outputs": [],
   "source": [
    "# 파일 암호화\n",
    "cipher_suite = Fernet(key)\n",
    "with open(config, 'rb') as file: \n",
    "    file_data = file.read()\n",
    "encrypted_data = cipher_suite.encrypt(file_data) # 암호화\n",
    "\n",
    "name = config.split(\"/\")[-1].split(\".\")[0]\n",
    "\n",
    "with open(name, 'wb') as file: # 암호화된 파일 저장\n",
    "    file.write(encrypted_data)"
   ]
  },
  {
   "cell_type": "markdown",
   "metadata": {},
   "source": [
    "# 복호화"
   ]
  },
  {
   "cell_type": "code",
   "execution_count": null,
   "metadata": {},
   "outputs": [],
   "source": [
    "config = \"./base\""
   ]
  },
  {
   "cell_type": "code",
   "execution_count": 34,
   "metadata": {},
   "outputs": [],
   "source": [
    "def crypto_decode(config):\n",
    "    key = input(\"Input Key String\").encode()\n",
    "    cipher_suite = Fernet(key)\n",
    "    decrypted_config = cipher_suite.decrypt(config)\n",
    "    return decrypted_config"
   ]
  },
  {
   "cell_type": "code",
   "execution_count": null,
   "metadata": {},
   "outputs": [],
   "source": []
  },
  {
   "cell_type": "code",
   "execution_count": null,
   "metadata": {},
   "outputs": [],
   "source": [
    "crypto_decode()"
   ]
  }
 ],
 "metadata": {
  "kernelspec": {
   "display_name": "base",
   "language": "python",
   "name": "python3"
  },
  "language_info": {
   "codemirror_mode": {
    "name": "ipython",
    "version": 3
   },
   "file_extension": ".py",
   "mimetype": "text/x-python",
   "name": "python",
   "nbconvert_exporter": "python",
   "pygments_lexer": "ipython3",
   "version": "3.8.13"
  },
  "orig_nbformat": 4
 },
 "nbformat": 4,
 "nbformat_minor": 2
}
