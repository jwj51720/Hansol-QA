{
 "cells": [
  {
   "cell_type": "code",
   "execution_count": null,
   "metadata": {},
   "outputs": [],
   "source": [
    "import pandas as pd\n",
    "from selenium import webdriver\n",
    "from selenium.webdriver.common.keys import Keys\n",
    "from selenium.webdriver.common.by import By\n",
    "from selenium.webdriver.support.ui import WebDriverWait\n",
    "from selenium.webdriver.support import expected_conditions as EC\n",
    "from tqdm import tqdm\n",
    "import time"
   ]
  },
  {
   "cell_type": "code",
   "execution_count": null,
   "metadata": {},
   "outputs": [],
   "source": [
    "file_path = '../data/train.csv'\n",
    "df = pd.read_csv(file_path)\n",
    "columns = '질문_1'"
   ]
  },
  {
   "cell_type": "code",
   "execution_count": null,
   "metadata": {},
   "outputs": [],
   "source": [
    "target = df[columns]"
   ]
  },
  {
   "cell_type": "code",
   "execution_count": null,
   "metadata": {},
   "outputs": [],
   "source": [
    "class any_text_except_specific_to_be_present_in_element_within_another_element:\n",
    "    def __init__(self, container_locator, child_tag, excluded_text):\n",
    "        self.container_locator = container_locator\n",
    "        self.child_tag = child_tag\n",
    "        self.excluded_text = excluded_text\n",
    "\n",
    "    def __call__(self, driver):\n",
    "        container_element = driver.find_element(*self.container_locator)\n",
    "        child_elements = container_element.find_elements(By.TAG_NAME, self.child_tag)\n",
    "        return any(child_element.text.strip() != \"\" and child_element.text.strip() != self.excluded_text for child_element in child_elements)"
   ]
  },
  {
   "cell_type": "code",
   "execution_count": null,
   "metadata": {},
   "outputs": [],
   "source": [
    "new_data = []\n",
    "driver = webdriver.Chrome()\n",
    "driver.get('https://papago.naver.com/?sk=ko&tk=ja&hn=0')\n",
    "for index, row in enumerate(tqdm(target)):\n",
    "    # 사이트에 접속\n",
    "    input_field = driver.find_element(By.ID, 'txtSource')\n",
    "    input_field.send_keys(row)\n",
    "    time.sleep(3)\n",
    "\n",
    "    wait = WebDriverWait(driver, 10)\n",
    "    target_locator = (By.ID, \"targetEditArea\")\n",
    "    excluded_text = \"...\"  # 제외할 텍스트\n",
    "    wait.until(any_text_except_specific_to_be_present_in_element_within_another_element(target_locator, \"span\", excluded_text))\n",
    "\n",
    "    switch_button = driver.find_element(By.CLASS_NAME, \"btn_switch___x4Tcl\")\n",
    "    switch_button.click()\n",
    "    time.sleep(1)\n",
    "\n",
    "    wait.until(any_text_except_specific_to_be_present_in_element_within_another_element(target_locator, \"span\", excluded_text))\n",
    "\n",
    "    final_text = driver.find_element(By.ID, \"targetEditArea\").text\n",
    "    new_data.append(final_text)\n",
    "    time.sleep(1)\n",
    "    input_field.clear()\n",
    "    print(row, \"<->\",final_text)\n",
    "\n",
    "# 데이터프레임에 새로운 열로 저장\n",
    "df[f\"{columns}'\"] = new_data"
   ]
  },
  {
   "cell_type": "code",
   "execution_count": null,
   "metadata": {},
   "outputs": [],
   "source": [
    "df = df[['id','질문_1',\"질문_1'\",'질문_2','category','답변_1','답변_2','답변_3','답변_4','답변_5']]"
   ]
  },
  {
   "cell_type": "code",
   "execution_count": null,
   "metadata": {},
   "outputs": [],
   "source": [
    "df.to_csv(\"../data/train_aug.csv\")"
   ]
  }
 ],
 "metadata": {
  "kernelspec": {
   "display_name": "base",
   "language": "python",
   "name": "python3"
  },
  "language_info": {
   "codemirror_mode": {
    "name": "ipython",
    "version": 3
   },
   "file_extension": ".py",
   "mimetype": "text/x-python",
   "name": "python",
   "nbconvert_exporter": "python",
   "pygments_lexer": "ipython3",
   "version": "3.8.13"
  },
  "orig_nbformat": 4
 },
 "nbformat": 4,
 "nbformat_minor": 2
}
